{
  "cells": [
    {
      "cell_type": "markdown",
      "metadata": {
        "id": "2-w-jJ7ka3A9"
      },
      "source": [
        "# Antes de comenzar\n",
        "## Para personalizar este cuaderno, es necesario que sigas las siguientes instrucciones:\n",
        "### 1 - Dirigite al menu 'Archivo' y luego selecciona 'Guardar una copia en Drive'\n",
        "### 2 - En la ventana emergente, selecciona 'Abrir en pestaña nueva'. Esto abrirá la copia de trabajo en una pestaña nueva.\n",
        "### 3 - En la nueva pestaña aparecerá la copia que permanecerá almacenada en tu cuenta de Google Drive. En este cuaderno podras hacer todos los cambios que desees."
      ]
    },
    {
      "cell_type": "markdown",
      "source": [
        "## Librerias"
      ],
      "metadata": {
        "id": "QXUwG7KCgxCL"
      }
    },
    {
      "cell_type": "code",
      "source": [
        "!pip install qrcode[pil] -q"
      ],
      "metadata": {
        "id": "cZeGpEUOgwm7",
        "colab": {
          "base_uri": "https://localhost:8080/"
        },
        "outputId": "43c7d427-86e9-41dc-f5b7-e7151b765e55"
      },
      "execution_count": null,
      "outputs": [
        {
          "output_type": "stream",
          "name": "stdout",
          "text": [
            "\u001b[?25l   \u001b[90m━━━━━━━━━━━━━━━━━━━━━━━━━━━━━━━━━━━━━━━━\u001b[0m \u001b[32m0.0/45.7 kB\u001b[0m \u001b[31m?\u001b[0m eta \u001b[36m-:--:--\u001b[0m\r\u001b[2K   \u001b[91m━━━━━━━━━━━━━━━━━━━━━━━━━━━━━━━━━━━\u001b[0m\u001b[91m╸\u001b[0m\u001b[90m━━━━\u001b[0m \u001b[32m41.0/45.7 kB\u001b[0m \u001b[31m47.7 MB/s\u001b[0m eta \u001b[36m0:00:01\u001b[0m\r\u001b[2K   \u001b[90m━━━━━━━━━━━━━━━━━━━━━━━━━━━━━━━━━━━━━━━━\u001b[0m \u001b[32m45.7/45.7 kB\u001b[0m \u001b[31m659.4 kB/s\u001b[0m eta \u001b[36m0:00:00\u001b[0m\n",
            "\u001b[?25h"
          ]
        }
      ]
    },
    {
      "cell_type": "code",
      "source": [
        "import qrcode"
      ],
      "metadata": {
        "id": "BUk2kmHQGXcY"
      },
      "execution_count": null,
      "outputs": []
    },
    {
      "cell_type": "code",
      "source": [
        "# Crear un código QR\n",
        "qr = qrcode.QRCode(version=1, box_size=10, border=5)\n",
        "qr.add_data('https://www.python.org')\n",
        "qr.make(fit=True)"
      ],
      "metadata": {
        "id": "4l-IJSXvhCEY"
      },
      "execution_count": null,
      "outputs": []
    },
    {
      "cell_type": "code",
      "source": [
        "# Crear una imagen del código QR\n",
        "img = qr.make_image(fill_color=\"blue\", back_color=\"white\")"
      ],
      "metadata": {
        "id": "R_qUnGcicDp3"
      },
      "execution_count": null,
      "outputs": []
    },
    {
      "cell_type": "code",
      "source": [
        "# Guardar la imagen\n",
        "img.save(\"python_qr.png\")\n",
        "\n",
        "print(\"Código QR generado y guardado como 'python_qr.png'\")"
      ],
      "metadata": {
        "id": "PpRCD-vHHXuZ",
        "colab": {
          "base_uri": "https://localhost:8080/"
        },
        "outputId": "d5c453d8-c22a-4e12-c75f-992a9b279a6a"
      },
      "execution_count": null,
      "outputs": [
        {
          "output_type": "stream",
          "name": "stdout",
          "text": [
            "Código QR generado y guardado como 'python_qr.png'\n"
          ]
        }
      ]
    },
    {
      "cell_type": "code",
      "source": [
        "!pip install gradio -q"
      ],
      "metadata": {
        "id": "FStwxlBWwu0K",
        "colab": {
          "base_uri": "https://localhost:8080/"
        },
        "outputId": "403e868b-b915-46f5-8065-010b7c6a12e2"
      },
      "execution_count": null,
      "outputs": [
        {
          "output_type": "stream",
          "name": "stdout",
          "text": [
            "\u001b[2K   \u001b[90m━━━━━━━━━━━━━━━━━━━━━━━━━━━━━━━━━━━━━━━━\u001b[0m \u001b[32m46.2/46.2 MB\u001b[0m \u001b[31m14.4 MB/s\u001b[0m eta \u001b[36m0:00:00\u001b[0m\n",
            "\u001b[2K   \u001b[90m━━━━━━━━━━━━━━━━━━━━━━━━━━━━━━━━━━━━━━━━\u001b[0m \u001b[32m322.1/322.1 kB\u001b[0m \u001b[31m16.5 MB/s\u001b[0m eta \u001b[36m0:00:00\u001b[0m\n",
            "\u001b[2K   \u001b[90m━━━━━━━━━━━━━━━━━━━━━━━━━━━━━━━━━━━━━━━━\u001b[0m \u001b[32m94.9/94.9 kB\u001b[0m \u001b[31m7.8 MB/s\u001b[0m eta \u001b[36m0:00:00\u001b[0m\n",
            "\u001b[2K   \u001b[90m━━━━━━━━━━━━━━━━━━━━━━━━━━━━━━━━━━━━━━━━\u001b[0m \u001b[32m11.3/11.3 MB\u001b[0m \u001b[31m66.9 MB/s\u001b[0m eta \u001b[36m0:00:00\u001b[0m\n",
            "\u001b[2K   \u001b[90m━━━━━━━━━━━━━━━━━━━━━━━━━━━━━━━━━━━━━━━━\u001b[0m \u001b[32m72.0/72.0 kB\u001b[0m \u001b[31m4.5 MB/s\u001b[0m eta \u001b[36m0:00:00\u001b[0m\n",
            "\u001b[2K   \u001b[90m━━━━━━━━━━━━━━━━━━━━━━━━━━━━━━━━━━━━━━━━\u001b[0m \u001b[32m62.3/62.3 kB\u001b[0m \u001b[31m5.0 MB/s\u001b[0m eta \u001b[36m0:00:00\u001b[0m\n",
            "\u001b[?25h\u001b[31mERROR: pip's dependency resolver does not currently take into account all the packages that are installed. This behaviour is the source of the following dependency conflicts.\n",
            "torch 2.6.0+cu124 requires nvidia-cublas-cu12==12.4.5.8; platform_system == \"Linux\" and platform_machine == \"x86_64\", but you have nvidia-cublas-cu12 12.5.3.2 which is incompatible.\n",
            "torch 2.6.0+cu124 requires nvidia-cuda-cupti-cu12==12.4.127; platform_system == \"Linux\" and platform_machine == \"x86_64\", but you have nvidia-cuda-cupti-cu12 12.5.82 which is incompatible.\n",
            "torch 2.6.0+cu124 requires nvidia-cuda-nvrtc-cu12==12.4.127; platform_system == \"Linux\" and platform_machine == \"x86_64\", but you have nvidia-cuda-nvrtc-cu12 12.5.82 which is incompatible.\n",
            "torch 2.6.0+cu124 requires nvidia-cuda-runtime-cu12==12.4.127; platform_system == \"Linux\" and platform_machine == \"x86_64\", but you have nvidia-cuda-runtime-cu12 12.5.82 which is incompatible.\n",
            "torch 2.6.0+cu124 requires nvidia-cudnn-cu12==9.1.0.70; platform_system == \"Linux\" and platform_machine == \"x86_64\", but you have nvidia-cudnn-cu12 9.3.0.75 which is incompatible.\n",
            "torch 2.6.0+cu124 requires nvidia-cufft-cu12==11.2.1.3; platform_system == \"Linux\" and platform_machine == \"x86_64\", but you have nvidia-cufft-cu12 11.2.3.61 which is incompatible.\n",
            "torch 2.6.0+cu124 requires nvidia-curand-cu12==10.3.5.147; platform_system == \"Linux\" and platform_machine == \"x86_64\", but you have nvidia-curand-cu12 10.3.6.82 which is incompatible.\n",
            "torch 2.6.0+cu124 requires nvidia-cusolver-cu12==11.6.1.9; platform_system == \"Linux\" and platform_machine == \"x86_64\", but you have nvidia-cusolver-cu12 11.6.3.83 which is incompatible.\n",
            "torch 2.6.0+cu124 requires nvidia-cusparse-cu12==12.3.1.170; platform_system == \"Linux\" and platform_machine == \"x86_64\", but you have nvidia-cusparse-cu12 12.5.1.3 which is incompatible.\n",
            "torch 2.6.0+cu124 requires nvidia-nvjitlink-cu12==12.4.127; platform_system == \"Linux\" and platform_machine == \"x86_64\", but you have nvidia-nvjitlink-cu12 12.5.82 which is incompatible.\u001b[0m\u001b[31m\n",
            "\u001b[0m"
          ]
        }
      ]
    },
    {
      "cell_type": "code",
      "source": [
        "import gradio as gr"
      ],
      "metadata": {
        "id": "T1Cplkd7wyU1"
      },
      "execution_count": null,
      "outputs": []
    },
    {
      "cell_type": "code",
      "source": [
        "def saludo(nombre, intensidad):\n",
        "  return \"Hola, \" + nombre + \"!\" * int(intensidad)"
      ],
      "metadata": {
        "id": "Qbnh4Dp6w1hb"
      },
      "execution_count": null,
      "outputs": []
    },
    {
      "cell_type": "code",
      "source": [
        "demo = gr.Interface(\n",
        "  fn=saludo,\n",
        "  inputs=[\"text\", \"slider\"],\n",
        "  outputs=[\"text\"],\n",
        ")\n",
        "\n",
        "demo.launch()"
      ],
      "metadata": {
        "id": "9H7sg7-Mw983",
        "colab": {
          "base_uri": "https://localhost:8080/",
          "height": 650
        },
        "outputId": "3a111753-b7ef-424c-b7cf-54aaeecb7161"
      },
      "execution_count": null,
      "outputs": [
        {
          "output_type": "stream",
          "name": "stdout",
          "text": [
            "Running Gradio in a Colab notebook requires sharing enabled. Automatically setting `share=True` (you can turn this off by setting `share=False` in `launch()` explicitly).\n",
            "\n",
            "Colab notebook detected. To show errors in colab notebook, set debug=True in launch()\n",
            "* Running on public URL: https://ed89322784f0ca7f87.gradio.live\n",
            "\n",
            "This share link expires in 72 hours. For free permanent hosting and GPU upgrades, run `gradio deploy` from the terminal in the working directory to deploy to Hugging Face Spaces (https://huggingface.co/spaces)\n"
          ]
        },
        {
          "output_type": "display_data",
          "data": {
            "text/plain": [
              "<IPython.core.display.HTML object>"
            ],
            "text/html": [
              "<div><iframe src=\"https://ed89322784f0ca7f87.gradio.live\" width=\"100%\" height=\"500\" allow=\"autoplay; camera; microphone; clipboard-read; clipboard-write;\" frameborder=\"0\" allowfullscreen></iframe></div>"
            ]
          },
          "metadata": {}
        },
        {
          "output_type": "execute_result",
          "data": {
            "text/plain": []
          },
          "metadata": {},
          "execution_count": 11
        }
      ]
    },
    {
      "cell_type": "markdown",
      "metadata": {
        "id": "uRhT5W-30HN9"
      },
      "source": [
        "# Introducción a la programacion con Python\n",
        "\n",
        "### En esta notebook vamos a revisar los conceptos básicos de Python que necesitas para comprender fundamentos de progamación, tipos de datos y operaciones y seguir avanzando en desarrollo de programas."
      ]
    },
    {
      "cell_type": "markdown",
      "source": [
        "I. Introducción a la programación con Python\n",
        "\n",
        "II. Tabla de Contenidos\n",
        "\n",
        "    I. Python\n",
        "\n",
        "III. IDEs\n",
        "\n",
        "        I. Thonny\n",
        "        II. Visual Studio Code\n",
        "        \n",
        "IV. Hola Jupyter!\n",
        "\n",
        "V. Variables y tipos de datos\n",
        "\n",
        "    I. Numéricos\n",
        "    II. Operaciones numéricas - Divisiones\n",
        "    III. Booleanos\n",
        "        I. Operaciones lógicas\n",
        "\n",
        "VI. Casos y distintas formas de aplicacion\n",
        "\n",
        "    I. Strings\n",
        "    II. Listas\n",
        "        I. Indexing y slicing en listas\n",
        "        II. Otras operaciones y métodos\n",
        "    III. Diccionarios\n",
        "    IV. Condicionales\n",
        "    V. Bucles o Loops\n",
        "        I. For loop\n",
        "        II. While loop\n",
        "\n",
        "VII. Funciones\n",
        "\n",
        "VIII. Montar unidad de Google Drive\n",
        "\n",
        "IX. Librerias"
      ],
      "metadata": {
        "id": "THVxcadpstPm"
      }
    },
    {
      "cell_type": "markdown",
      "source": [
        "## Python\n",
        "\n",
        "- Elegante, sencillo\n",
        "- Comunidad y accesibilidad\n",
        "- Desarrollos de estado del arte\n",
        "- Flexibilidad \"full stack\"\n",
        "- Multi-paradigma"
      ],
      "metadata": {
        "id": "Q2dA8rGqs3W2"
      }
    },
    {
      "cell_type": "code",
      "source": [
        "import this"
      ],
      "metadata": {
        "id": "p0DoLbenduTz",
        "colab": {
          "base_uri": "https://localhost:8080/"
        },
        "outputId": "53d48a67-4bc4-4080-9566-c7212dd6ebc6"
      },
      "execution_count": null,
      "outputs": [
        {
          "output_type": "stream",
          "name": "stdout",
          "text": [
            "The Zen of Python, by Tim Peters\n",
            "\n",
            "Beautiful is better than ugly.\n",
            "Explicit is better than implicit.\n",
            "Simple is better than complex.\n",
            "Complex is better than complicated.\n",
            "Flat is better than nested.\n",
            "Sparse is better than dense.\n",
            "Readability counts.\n",
            "Special cases aren't special enough to break the rules.\n",
            "Although practicality beats purity.\n",
            "Errors should never pass silently.\n",
            "Unless explicitly silenced.\n",
            "In the face of ambiguity, refuse the temptation to guess.\n",
            "There should be one-- and preferably only one --obvious way to do it.\n",
            "Although that way may not be obvious at first unless you're Dutch.\n",
            "Now is better than never.\n",
            "Although never is often better than *right* now.\n",
            "If the implementation is hard to explain, it's a bad idea.\n",
            "If the implementation is easy to explain, it may be a good idea.\n",
            "Namespaces are one honking great idea -- let's do more of those!\n"
          ]
        }
      ]
    },
    {
      "cell_type": "markdown",
      "source": [
        "#### El Zen de Python, por Tim Peters\n",
        "\n",
        "- Bello es mejor que feo.\n",
        "- Explícito es mejor que implícito.\n",
        "- Simple es mejor que complejo.\n",
        "- Complejo es mejor que complicado.\n",
        "- Plano es mejor que anidado.\n",
        "- Espaciado es mejor que denso.\n",
        "- La legibilidad es importante.\n",
        "- Los casos especiales no son lo suficientemente especiales como para romper las reglas.\n",
        "- Aunque la practicidad vence a la pureza.\n",
        "- Los errores nunca deberían pasar silenciosamente.\n",
        "- A menos que se silencien explícitamente.\n",
        "- Frente a la ambigüedad, rechaza la tentación de adivinar.\n",
        "- Debería haber una, y preferiblemente solo una, manera obvia de hacerlo.\n",
        "- Aunque esa manera puede no ser obvia al principio a menos que seas holandés.\n",
        "- Ahora es mejor que nunca.\n",
        "- Aunque nunca es a menudo mejor que *ahora* mismo.\n",
        "- Si la implementación es difícil de explicar, es una mala idea.\n",
        "- Si la implementación es fácil de explicar, puede ser una buena idea.\n",
        "- Los espacios de nombres son una gran idea, ¡hagamos más de esos!\n"
      ],
      "metadata": {
        "id": "9EGBRANVWLOZ"
      }
    },
    {
      "cell_type": "markdown",
      "source": [
        "# IDEs"
      ],
      "metadata": {
        "id": "Vz4Yw-sOs8KQ"
      }
    },
    {
      "cell_type": "markdown",
      "source": [
        "<img src='https://thonny.org/img/screenshot.png'></img>"
      ],
      "metadata": {
        "id": "ktX6kyDutBxt"
      }
    },
    {
      "cell_type": "markdown",
      "source": [
        "<img src='https://upload.wikimedia.org/wikipedia/commons/thumb/e/e5/Visual_studio_code_updated.png/1200px-Visual_studio_code_updated.png'></img>"
      ],
      "metadata": {
        "id": "K_JQyhH2tPMh"
      }
    },
    {
      "cell_type": "markdown",
      "metadata": {
        "id": "fON8gcU84tPL"
      },
      "source": [
        "### Variables\n",
        "\n",
        "### Las variables son contenedores que almacenan datos. Puedes usar variables para guardar información y trabajar con ella.\n",
        "\n",
        "Existen distintos tipos:\n",
        "\n",
        "- int: entero\n",
        "- float: punto flotante\n",
        "- string: cadena de caracteres\n",
        "- bool: booleano, 0, 1, True o False\n",
        "\n",
        "Y estructuras de datos, como:\n",
        "\n",
        "  - list: lista de elementos (de cualquier tipo, incluida otra lista)\n",
        "  - dict: \"diccionario\", conjunto de pares llave:valor\n",
        "  \n",
        "Veamos un primer ejemplo"
      ]
    },
    {
      "cell_type": "code",
      "execution_count": null,
      "metadata": {
        "id": "cmtKSlLFyVKi"
      },
      "outputs": [],
      "source": [
        "variable1 = \"naranja\"  # Esto es una variable de cadena (string)"
      ]
    },
    {
      "cell_type": "code",
      "source": [
        "type(variable1)"
      ],
      "metadata": {
        "colab": {
          "base_uri": "https://localhost:8080/"
        },
        "id": "Gd8vm0YQ-9Cl",
        "outputId": "5698cf11-10a4-41b5-d54e-6366111bd208"
      },
      "execution_count": null,
      "outputs": [
        {
          "output_type": "execute_result",
          "data": {
            "text/plain": [
              "str"
            ]
          },
          "metadata": {},
          "execution_count": 14
        }
      ]
    },
    {
      "cell_type": "code",
      "source": [
        "variable2 = \"2\""
      ],
      "metadata": {
        "id": "pidOR4AwI8tc"
      },
      "execution_count": null,
      "outputs": []
    },
    {
      "cell_type": "code",
      "source": [
        "type(variable2)"
      ],
      "metadata": {
        "colab": {
          "base_uri": "https://localhost:8080/"
        },
        "id": "zYIFiQQK_HKF",
        "outputId": "65be5b88-5a68-4b51-acce-12df25c410c8"
      },
      "execution_count": null,
      "outputs": [
        {
          "output_type": "execute_result",
          "data": {
            "text/plain": [
              "str"
            ]
          },
          "metadata": {},
          "execution_count": 30
        }
      ]
    },
    {
      "cell_type": "code",
      "source": [
        "variable3 = float(input(\"Ingresá un número: \"))"
      ],
      "metadata": {
        "id": "BnwjzCLdKFTN",
        "colab": {
          "base_uri": "https://localhost:8080/"
        },
        "outputId": "669a4030-43e6-4599-f3c7-1c6f63ce9610"
      },
      "execution_count": null,
      "outputs": [
        {
          "name": "stdout",
          "output_type": "stream",
          "text": [
            "Ingresá un número: 33\n"
          ]
        }
      ]
    },
    {
      "cell_type": "code",
      "source": [
        "type(variable3)"
      ],
      "metadata": {
        "colab": {
          "base_uri": "https://localhost:8080/"
        },
        "id": "ppXjlVpf_hHi",
        "outputId": "956ccbf2-fe74-4081-a8dc-136faa368241"
      },
      "execution_count": null,
      "outputs": [
        {
          "output_type": "execute_result",
          "data": {
            "text/plain": [
              "float"
            ]
          },
          "metadata": {},
          "execution_count": 26
        }
      ]
    },
    {
      "cell_type": "code",
      "source": [
        "print(variable3)"
      ],
      "metadata": {
        "colab": {
          "base_uri": "https://localhost:8080/"
        },
        "id": "o7P8IyqpAdv1",
        "outputId": "b1032067-721b-4ea1-fda1-c43d191c7ec2"
      },
      "execution_count": null,
      "outputs": [
        {
          "output_type": "stream",
          "name": "stdout",
          "text": [
            "33.0\n"
          ]
        }
      ]
    },
    {
      "cell_type": "code",
      "source": [
        "print(variable1 + variable2)"
      ],
      "metadata": {
        "id": "vpFqGpszJwaj",
        "colab": {
          "base_uri": "https://localhost:8080/"
        },
        "outputId": "d57a8fc6-7832-4a4e-ba8f-5e12541015eb"
      },
      "execution_count": null,
      "outputs": [
        {
          "output_type": "stream",
          "name": "stdout",
          "text": [
            "naranja2\n"
          ]
        }
      ]
    },
    {
      "cell_type": "code",
      "source": [
        "numero_a = int(input(\"Ingresá un número: \"))"
      ],
      "metadata": {
        "colab": {
          "base_uri": "https://localhost:8080/"
        },
        "id": "GkksGrUGBfp4",
        "outputId": "cb7fc325-79cf-44b8-ecc4-37420d90df1c"
      },
      "execution_count": null,
      "outputs": [
        {
          "name": "stdout",
          "output_type": "stream",
          "text": [
            "Ingresá un número: 2\n"
          ]
        }
      ]
    },
    {
      "cell_type": "code",
      "source": [
        "type(numero_a)"
      ],
      "metadata": {
        "colab": {
          "base_uri": "https://localhost:8080/"
        },
        "id": "WclHOk5mDZw-",
        "outputId": "3ef15492-0ac0-4fb6-d5b5-cdbe6cebee41"
      },
      "execution_count": null,
      "outputs": [
        {
          "output_type": "execute_result",
          "data": {
            "text/plain": [
              "int"
            ]
          },
          "metadata": {},
          "execution_count": 41
        }
      ]
    },
    {
      "cell_type": "code",
      "source": [
        "numero_b = int(input(\"Ingresá otro número: \"))"
      ],
      "metadata": {
        "colab": {
          "base_uri": "https://localhost:8080/"
        },
        "id": "Tv2q4s78BmWD",
        "outputId": "fc423513-4f70-4ea3-bd6f-70440b31da91"
      },
      "execution_count": null,
      "outputs": [
        {
          "name": "stdout",
          "output_type": "stream",
          "text": [
            "Ingresá otro número: 3\n"
          ]
        }
      ]
    },
    {
      "cell_type": "code",
      "source": [
        "print(numero_a + numero_b)"
      ],
      "metadata": {
        "colab": {
          "base_uri": "https://localhost:8080/"
        },
        "id": "p_AsZtO6DPXW",
        "outputId": "e7b7768f-258f-4bc0-c2f2-85221858a25a"
      },
      "execution_count": null,
      "outputs": [
        {
          "output_type": "stream",
          "name": "stdout",
          "text": [
            "5\n"
          ]
        }
      ]
    },
    {
      "cell_type": "code",
      "source": [
        "numero_c = numero_a + numero_b"
      ],
      "metadata": {
        "id": "Aho7um1_Dk3H"
      },
      "execution_count": null,
      "outputs": []
    },
    {
      "cell_type": "code",
      "source": [
        "type(numero_c)"
      ],
      "metadata": {
        "colab": {
          "base_uri": "https://localhost:8080/"
        },
        "id": "q5SbG4qWDpRs",
        "outputId": "ec6c8e2d-9542-43da-e49a-0f255ac45e7a"
      },
      "execution_count": null,
      "outputs": [
        {
          "output_type": "execute_result",
          "data": {
            "text/plain": [
              "int"
            ]
          },
          "metadata": {},
          "execution_count": 44
        }
      ]
    },
    {
      "cell_type": "markdown",
      "source": [
        "Declaramos una variable llamada *primera_variable* asignándole el valor de \"Hola mundo!\". La **función print** toma entre paréntesis esa variable y muestra el valor en pantalla."
      ],
      "metadata": {
        "id": "pNpgUgq7uCgo"
      }
    },
    {
      "cell_type": "code",
      "source": [
        "print(\"Hola Mundo!\")"
      ],
      "metadata": {
        "id": "GjV-kHn5e4L4"
      },
      "execution_count": null,
      "outputs": []
    },
    {
      "cell_type": "markdown",
      "source": [
        "Declaramos una variable llamada *input_de_usuario* que pedirá al usuario que ingrese un dato. *input_de_usuario* imprime el valor de la variable"
      ],
      "metadata": {
        "id": "wOXYgQyMvylY"
      }
    },
    {
      "cell_type": "code",
      "execution_count": null,
      "metadata": {
        "id": "aRGXvGU_2UTx"
      },
      "outputs": [],
      "source": [
        "nombre_usuario = input(\"Ingresá tu nombre: \") # Esto es una variable que recibe entrada del usuario"
      ]
    },
    {
      "cell_type": "code",
      "source": [
        "#print(miVariable2)\n",
        "print(nombre_usuario)"
      ],
      "metadata": {
        "id": "H-GYTWG3LekF"
      },
      "execution_count": null,
      "outputs": []
    },
    {
      "cell_type": "markdown",
      "metadata": {
        "id": "3UMx5-JVoXRM"
      },
      "source": [
        "# Definimos dos variables numéricas\n",
        "\n",
        "### Y analizamos distintas operaciones posibles entre ellas"
      ]
    },
    {
      "cell_type": "code",
      "execution_count": null,
      "metadata": {
        "id": "b15cXDq6objF"
      },
      "outputs": [],
      "source": [
        "x = 2"
      ]
    },
    {
      "cell_type": "code",
      "source": [
        "y = 10"
      ],
      "metadata": {
        "id": "q7s3q47IfTeI"
      },
      "execution_count": null,
      "outputs": []
    },
    {
      "cell_type": "code",
      "execution_count": null,
      "metadata": {
        "id": "PXBLrOFzmuRI"
      },
      "outputs": [],
      "source": [
        "# Operaciones aritméticas\n",
        "suma = x + y  # Suma\n",
        "resta = x - y  # Resta\n",
        "multiplicacion = x * y  # Multiplicación\n",
        "division = x / y  # División\n",
        "division_entera = x // y  # División entera (descarta el residuo)\n",
        "resto = x % y  # Módulo (el resto de la división)\n",
        "\n",
        "# Operaciones de potenciación\n",
        "potencia = x ** 2  # Potencia (num1 elevado a la n)"
      ]
    },
    {
      "cell_type": "code",
      "source": [
        "# Imprimimos los resultados de las operaciones\n",
        "print(\"Suma:\", suma)\n",
        "print(\"Resta:\", resta)\n",
        "print(\"Multiplicación:\", multiplicacion)\n",
        "print(\"División:\", division)\n",
        "print(\"División entera:\", division_entera)\n",
        "print(\"Resto:\", resto)\n",
        "print(\"Potencia:\", potencia)"
      ],
      "metadata": {
        "id": "4BnrtmGNfxLI"
      },
      "execution_count": null,
      "outputs": []
    },
    {
      "cell_type": "markdown",
      "source": [
        "La **función** _type_ recibe de **argumento** una **variable** y **devuelve** su tipo"
      ],
      "metadata": {
        "id": "KcRi280fw5fH"
      }
    },
    {
      "cell_type": "code",
      "source": [
        "type(x), type(y)"
      ],
      "metadata": {
        "id": "leYqwXfxw_GT"
      },
      "execution_count": null,
      "outputs": []
    },
    {
      "cell_type": "code",
      "source": [
        "numero1 = 10.0\n",
        "type(numero1)"
      ],
      "metadata": {
        "id": "NMy9PreUM86w"
      },
      "execution_count": null,
      "outputs": []
    },
    {
      "cell_type": "code",
      "source": [
        "texto = \"Hola\"\n",
        "type(texto)"
      ],
      "metadata": {
        "id": "VmUqT2y5Mv5k"
      },
      "execution_count": null,
      "outputs": []
    },
    {
      "cell_type": "markdown",
      "source": [
        "Intentemos la siguiente suma..."
      ],
      "metadata": {
        "id": "Awu7iTF8xDof"
      }
    },
    {
      "cell_type": "code",
      "source": [
        "5 + int(\"10\")"
      ],
      "metadata": {
        "id": "YjSFauPnxGZ4"
      },
      "execution_count": null,
      "outputs": []
    },
    {
      "cell_type": "markdown",
      "source": [
        "¿Qué paso?\n",
        "\n",
        "Si **convertimos** el string \"10\" a tipo int"
      ],
      "metadata": {
        "id": "jQ6hDb1LxL-e"
      }
    },
    {
      "cell_type": "code",
      "source": [
        "edad_usuario = float(input(\"Ingresá tu edad: \"))"
      ],
      "metadata": {
        "id": "9K8o4IvQxTFg"
      },
      "execution_count": null,
      "outputs": []
    },
    {
      "cell_type": "code",
      "source": [
        "type(edad_usuario)"
      ],
      "metadata": {
        "id": "g2cy54CAPIKX"
      },
      "execution_count": null,
      "outputs": []
    },
    {
      "cell_type": "markdown",
      "metadata": {
        "id": "qyNuCBWTi6Ma"
      },
      "source": [
        "## En el siguiente codigo veremos variables booleanas, las cuales solo pueden contener dos valores ('True', 'False').\n",
        "###  Podes probar distintos operadores de comparación (==, !=, <, >, <=, >=) y analizar como fnciona el siguiente codigo:"
      ]
    },
    {
      "cell_type": "code",
      "source": [
        "# Operaciones de comparación\n",
        "igual = x == y  # Igual a\n",
        "diferente = x != y  # Diferente de\n",
        "mayor = x > y  # Mayor que\n",
        "menor = x < y  # Menor que\n",
        "mayor_igual = x >= y  # Mayor o igual que\n",
        "menor_igual = x <= y  # Menor o igual que"
      ],
      "metadata": {
        "id": "Iho4T0zEjSHG"
      },
      "execution_count": null,
      "outputs": []
    },
    {
      "cell_type": "code",
      "execution_count": null,
      "metadata": {
        "id": "i4azqP7_n_KU"
      },
      "outputs": [],
      "source": [
        "# Imprimimos los resultados de las operaciones\n",
        "print(\"Igual a:\", igual)\n",
        "print(\"Diferente de:\", diferente)\n",
        "print(\"Mayor que:\", mayor)\n",
        "print(\"Menor que:\", menor)\n",
        "print(\"Mayor o igual que:\", mayor_igual)\n",
        "print(\"Menor o igual que:\", menor_igual)"
      ]
    },
    {
      "cell_type": "code",
      "source": [
        "print(\"El valor de X es:\", x)\n",
        "print(\"El valor de Y es:\", y)"
      ],
      "metadata": {
        "id": "7xKp8qCmjavB"
      },
      "execution_count": null,
      "outputs": []
    },
    {
      "cell_type": "code",
      "source": [
        "print(f\"El valor de X es: {x} y el valor de Y es: {y}\")"
      ],
      "metadata": {
        "id": "0O7zBoANj4zx"
      },
      "execution_count": null,
      "outputs": []
    },
    {
      "cell_type": "code",
      "source": [
        "dato_usuario = input(\"Ingrese un dato: \")"
      ],
      "metadata": {
        "id": "pbZ9vNAcWBNp"
      },
      "execution_count": null,
      "outputs": []
    },
    {
      "cell_type": "code",
      "source": [
        "if dato_usuario == \"uno\" or dato_usuario == \"1\":\n",
        "  print(\"el dato ingresado es uno\")\n",
        "else:\n",
        "  print(\"el dato ingresado no es uno\")"
      ],
      "metadata": {
        "id": "CQtRg-2tWKod"
      },
      "execution_count": null,
      "outputs": []
    },
    {
      "cell_type": "code",
      "source": [
        "numero1 = float(input(\"Ingresá un numero: \"))\n",
        "numero2 = float(input(\"Ingresá otro numero: \"))"
      ],
      "metadata": {
        "id": "fmSlBzF1k9K2"
      },
      "execution_count": null,
      "outputs": []
    },
    {
      "cell_type": "code",
      "source": [
        "operacion = int(input(\"\"\"¿Qué operacion matematica queres hacer?\n",
        "                          1 (SUMA)\n",
        "                          2 (RESTA)\n",
        "                          \"\"\"))"
      ],
      "metadata": {
        "id": "862OAmVwldgo"
      },
      "execution_count": null,
      "outputs": []
    },
    {
      "cell_type": "code",
      "source": [
        "if operacion == 1:\n",
        "  print(f\"El resultado de la suma de {numero1} y {numero2} es {numero1 + numero2}\")\n",
        "elif operacion == 2:\n",
        "  print(f\"El resultado de la resta de {numero1} y {numero2} es {numero1 - numero2}\")\n",
        "else:\n",
        "  print(\"Ingresaste una operacion no valida\")"
      ],
      "metadata": {
        "id": "rCQVZbmFm3Ub"
      },
      "execution_count": null,
      "outputs": []
    },
    {
      "cell_type": "code",
      "source": [
        "help(print)"
      ],
      "metadata": {
        "id": "2SmSO40cYCrU"
      },
      "execution_count": null,
      "outputs": []
    },
    {
      "cell_type": "code",
      "source": [
        "print?"
      ],
      "metadata": {
        "id": "p2X14fAYYRRs"
      },
      "execution_count": null,
      "outputs": []
    },
    {
      "cell_type": "markdown",
      "source": [
        "## Strings <a name=\"section-4\"></a>"
      ],
      "metadata": {
        "id": "NolH8GVByJ4h"
      }
    },
    {
      "cell_type": "code",
      "source": [
        "\"dos strings se pueden \" + \"concatenar\""
      ],
      "metadata": {
        "id": "-Mv9AbHCycO4"
      },
      "execution_count": null,
      "outputs": []
    },
    {
      "cell_type": "code",
      "source": [
        "print(\"dos strings se pueden\", \"concatenar\")"
      ],
      "metadata": {
        "id": "e9RG0IfjYosV"
      },
      "execution_count": null,
      "outputs": []
    },
    {
      "cell_type": "code",
      "source": [
        "a = 1"
      ],
      "metadata": {
        "id": "iWyyMELMZCEC"
      },
      "execution_count": null,
      "outputs": []
    },
    {
      "cell_type": "code",
      "source": [
        "b = 2"
      ],
      "metadata": {
        "id": "Xl-4HsnzZEGp"
      },
      "execution_count": null,
      "outputs": []
    },
    {
      "cell_type": "code",
      "source": [
        "print(type(a))"
      ],
      "metadata": {
        "id": "5J8uaykiZGQv"
      },
      "execution_count": null,
      "outputs": []
    },
    {
      "cell_type": "markdown",
      "source": [
        "Podemos acceder a ellos mediante **índices**. Los mismos funcionan para cualquier **iterable**, que es un objeto con muchos elementos que son accesibles secuencialmente. Podemos usar los índices para acceder a una posición determinada, pasándola entre corchetes [posición]. Es IMPORTANTE mencionar que en Python la primera posición tiene el índice 0 (y no 1)."
      ],
      "metadata": {
        "id": "jcq0Mm9ZykZa"
      }
    },
    {
      "cell_type": "code",
      "source": [
        "texto = \"programación en python\""
      ],
      "metadata": {
        "id": "R2EeY3uByoGg"
      },
      "execution_count": null,
      "outputs": []
    },
    {
      "cell_type": "code",
      "source": [
        "texto[6]"
      ],
      "metadata": {
        "id": "nFIUKVLMyqnr"
      },
      "execution_count": null,
      "outputs": []
    },
    {
      "cell_type": "code",
      "source": [
        "print(f\"El primer caracter es: {texto[0]}\")\n",
        "print(f\"El décimo caracter es: {texto[9]}\")"
      ],
      "metadata": {
        "id": "ezQS66Cl0JNr"
      },
      "execution_count": null,
      "outputs": []
    },
    {
      "cell_type": "markdown",
      "source": [
        "También podemos usar los índices para traer más de un elemento al mismo tiempo, usando el **slicing**. El slicing lleva tres parámetros: comienzo (start), final (stop) e intervalo o paso (step).\n",
        "\n",
        "- El parámetro comienzo (start) indica la primera posición incluida en la selección, por default es 0.\n",
        "\n",
        "- El parámetro final (stop) es la primera posición que NO va a estar incluída, por default se incluyen todos los elementos.\n",
        "\n",
        "- El parámetro intervalo o paso (step), es optativo e indica el tamaño del paso entre seleccionar un elemento y el siguiente, por default el paso es 1. El paso también puede ser negativo, en este caso contamos desde el final hacia el comienzo, esto es muy útil para dar vuelta los strings...\n",
        "\n",
        "    \n",
        "    [comienzo : final : intervalo] (en inglés es [start : stop : step] )\n",
        "    \n",
        "    \n",
        "El intervalo que se recibe es semi-abierto (indice_primero, indice_segundo], es decir se incluye el primero y no el segundo valor. Se admiten números negativos, que contabilizan desde el final."
      ],
      "metadata": {
        "id": "xUPGH8Zf0QAw"
      }
    },
    {
      "cell_type": "code",
      "source": [
        "texto[:]"
      ],
      "metadata": {
        "id": "Bhsmjun30kHt"
      },
      "execution_count": null,
      "outputs": []
    },
    {
      "cell_type": "code",
      "source": [
        "texto[:3]"
      ],
      "metadata": {
        "id": "hdjAES0J0mIA"
      },
      "execution_count": null,
      "outputs": []
    },
    {
      "cell_type": "code",
      "source": [
        "texto[1:4]"
      ],
      "metadata": {
        "id": "pQP9qGza0m2l"
      },
      "execution_count": null,
      "outputs": []
    },
    {
      "cell_type": "code",
      "source": [
        "texto[::-1]"
      ],
      "metadata": {
        "id": "zK-rI2ws0o7G"
      },
      "execution_count": null,
      "outputs": []
    },
    {
      "cell_type": "markdown",
      "source": [
        "Veamos algunos otros métodos de los strings"
      ],
      "metadata": {
        "id": "mzJXr_yh009g"
      }
    },
    {
      "cell_type": "code",
      "source": [
        "texto.upper()"
      ],
      "metadata": {
        "id": "K8gPPThw02R7"
      },
      "execution_count": null,
      "outputs": []
    },
    {
      "cell_type": "code",
      "source": [
        "texto.title()"
      ],
      "metadata": {
        "id": "N5tjWT5T05Pi"
      },
      "execution_count": null,
      "outputs": []
    },
    {
      "cell_type": "code",
      "source": [
        "texto.split() # Devuelve una lista, de ésto vamos a hablar a continuación"
      ],
      "metadata": {
        "id": "rJSGGPlb08EU"
      },
      "execution_count": null,
      "outputs": []
    },
    {
      "cell_type": "markdown",
      "source": [
        "Otras formas de combinar variables y texto...\n",
        "\n",
        "Rellenamos un string con **.format(query, modales)**:"
      ],
      "metadata": {
        "id": "drSaKe_c1gx7"
      }
    },
    {
      "cell_type": "code",
      "source": [
        "tema = 'intro a Python'\n",
        "modales = 'por favor'\n",
        "\n",
        "'Dame información de {} si esta disponible, {}'.format(modales, tema)"
      ],
      "metadata": {
        "id": "gkJ2ycYp1k24"
      },
      "execution_count": null,
      "outputs": []
    },
    {
      "cell_type": "code",
      "source": [
        "print(f\"Dame información de {tema.upper()} si esta disponible, {modales}\")"
      ],
      "metadata": {
        "id": "H3xgOPfHszHx"
      },
      "execution_count": null,
      "outputs": []
    },
    {
      "cell_type": "code",
      "source": [
        "#Otra manera\n",
        "print(f'Dame información de {tema.upper()} si esta disponible, {modales}')"
      ],
      "metadata": {
        "id": "teQW6VE-2Bqs"
      },
      "execution_count": null,
      "outputs": []
    },
    {
      "cell_type": "markdown",
      "source": [
        "Otros métodos a mencionar son:"
      ],
      "metadata": {
        "id": "LQpqARDR2KA4"
      }
    },
    {
      "cell_type": "markdown",
      "source": [],
      "metadata": {
        "id": "9luGM5ZI2pS4"
      }
    },
    {
      "cell_type": "code",
      "source": [
        "texto"
      ],
      "metadata": {
        "id": "ITz5-gjPtb2Z"
      },
      "execution_count": null,
      "outputs": []
    },
    {
      "cell_type": "code",
      "source": [
        "texto.replace(' ', '_')"
      ],
      "metadata": {
        "id": "WX8psmZA2JX8"
      },
      "execution_count": null,
      "outputs": []
    },
    {
      "cell_type": "code",
      "source": [
        "\"   quitando espacios  \".strip()"
      ],
      "metadata": {
        "id": "xdna3VH12NpD"
      },
      "execution_count": null,
      "outputs": []
    },
    {
      "cell_type": "code",
      "source": [
        "\"1000\".isdigit()"
      ],
      "metadata": {
        "id": "PlKO1BDl2TkD"
      },
      "execution_count": null,
      "outputs": []
    },
    {
      "cell_type": "markdown",
      "source": [
        "##Recapitulación"
      ],
      "metadata": {
        "id": "KWmCVk6Q2lEb"
      }
    },
    {
      "cell_type": "code",
      "execution_count": null,
      "metadata": {
        "id": "hW-YHREjhgVr"
      },
      "outputs": [],
      "source": [
        "# Introduciendo más variables y sustituciones\n",
        "nombre = input('Escriba aqui un nombre: ')\n",
        "edad = input('Escriba aqui una edad en numeros: ')\n",
        "direccion = input('Escriba aqui una direccion con su numero ')\n",
        "informacion = \"Nombre: {}\\nEdad: {}\\nDirección: {}\".format(nombre, edad, direccion)\n",
        "print(informacion)"
      ]
    },
    {
      "cell_type": "code",
      "execution_count": null,
      "metadata": {
        "id": "zMGjeTPliZl7"
      },
      "outputs": [],
      "source": [
        "# Definimos dos variables con nombres descriptivos\n",
        "a = 2\n",
        "b = 2\n",
        "\n",
        "# Introducimos una variable booleana para verificar si a es igual a b\n",
        "son_iguales = (a == b)\n",
        "\n",
        "# Utilizamos el método str.format() para formatear una cadena de manera más legible\n",
        "concatenacion = \"{} y {}\".format(a, b)\n",
        "\n",
        "# Imprimimos la cadena formateada\n",
        "print(concatenacion)\n",
        "\n",
        "# Usamos una variable booleana en una condición\n",
        "if son_iguales:\n",
        "    print(\"Las dos variables son iguales.\")\n",
        "else:\n",
        "    print(\"Las dos variables son diferentes.\")\n"
      ]
    },
    {
      "cell_type": "markdown",
      "metadata": {
        "id": "vqMvnJ9I0JCl"
      },
      "source": [
        "## Listas <a name=\"section-6\"></a>\n",
        "\n",
        "Las listas son un conjunto de elementos ordenados. Estos elementos pueden ser de cualquier tipo, incluyendo otras listas. Veamos algunas operaciones con ellas.\n"
      ]
    },
    {
      "cell_type": "code",
      "source": [
        "amigos = ['Mateo', 'Nico', 'Claudia', 'Ernestina', 'Paola']"
      ],
      "metadata": {
        "id": "LfFXxgv624WU"
      },
      "execution_count": null,
      "outputs": []
    },
    {
      "cell_type": "code",
      "source": [
        "amigas = (\"Tamy\", \"Claudia\", \"Caro\")"
      ],
      "metadata": {
        "id": "8XKpCm8XuB6e"
      },
      "execution_count": null,
      "outputs": []
    },
    {
      "cell_type": "markdown",
      "source": [
        "### Indexing y slicing en listas"
      ],
      "metadata": {
        "id": "YTxRJ9aW28-3"
      }
    },
    {
      "cell_type": "markdown",
      "source": [
        "De la misma forma que con los strings en el contexto de la listas generalmente hablamos de indexación o acceso por índice a la acción de encontrar un valor según su posición en la lista.\n",
        "\n",
        "Importantísimo (sí, ¡una vez más!): En Python el primer elemento se indexa con el valor 0. Es decir, si queremos el primer valor de una lista tenemos que llamar a la posición 0."
      ],
      "metadata": {
        "id": "qWHvxWhe3AAc"
      }
    },
    {
      "cell_type": "code",
      "source": [
        "amigos[0]"
      ],
      "metadata": {
        "id": "6fAD9SBi3G94"
      },
      "execution_count": null,
      "outputs": []
    },
    {
      "cell_type": "markdown",
      "source": [
        "Además, el último elemento se indexa como -1, el siguiente -2 y así sucesivamente. Entonces para acceder al último elemento:"
      ],
      "metadata": {
        "id": "1ddmpbyT3Kr9"
      }
    },
    {
      "cell_type": "code",
      "source": [
        "amigos[-1]"
      ],
      "metadata": {
        "id": "AxatTDJm3LaM"
      },
      "execution_count": null,
      "outputs": []
    },
    {
      "cell_type": "markdown",
      "source": [
        "Además, podemos acceder a varios elementos en simultáneo, usando el slicing de la misma manera que con strings.\n",
        "\n",
        "El slicing aplicado a una lista nos devuelve una lista.\n",
        "\n",
        "Veamos algunos ejemplos:"
      ],
      "metadata": {
        "id": "qgjzCJvb3XWY"
      }
    },
    {
      "cell_type": "code",
      "source": [
        "amigos[:] # arranco en 0 hasta el final, con el paso default (1)"
      ],
      "metadata": {
        "id": "HBlPSDs13ZgR"
      },
      "execution_count": null,
      "outputs": []
    },
    {
      "cell_type": "code",
      "source": [
        "amigos[:1] # arranco en 0 y el primero sin incluir es el 1, con el paso default (1)"
      ],
      "metadata": {
        "id": "e-Dk9G7P3ctg"
      },
      "execution_count": null,
      "outputs": []
    },
    {
      "cell_type": "code",
      "source": [
        "amigos[:-1] # excluímos el último elemento"
      ],
      "metadata": {
        "id": "cmCYhp_53eyw"
      },
      "execution_count": null,
      "outputs": []
    },
    {
      "cell_type": "code",
      "source": [
        "amigos[::2] # salteamos un elemento a la vez"
      ],
      "metadata": {
        "id": "RvEBS7Z53glw"
      },
      "execution_count": null,
      "outputs": []
    },
    {
      "cell_type": "code",
      "execution_count": null,
      "metadata": {
        "id": "zCZ1QtMuzdk3"
      },
      "outputs": [],
      "source": [
        "# lista basica en Python\n",
        "X = [2, 5, 7, -2, 0, 8, 13]\n",
        "\n",
        "# las listas pueden contener muchos tipos de datos\n",
        "Y = [99, 'Alice', -14.2903, 'Bob', [1,2,3], 50]\n",
        "\n",
        "# las listas tienen indice 0, por lo tanto en indice 2 es el elemento 3 de la lista X\n",
        "print(X[2])\n",
        "print(Y[1], Y[3])"
      ]
    },
    {
      "cell_type": "markdown",
      "source": [
        "### Otras operaciones y métodos"
      ],
      "metadata": {
        "id": "JZh5h7yl3vAN"
      }
    },
    {
      "cell_type": "markdown",
      "source": [
        "Agregar un nuevo elemento:"
      ],
      "metadata": {
        "id": "IYsA3usv3yMA"
      }
    },
    {
      "cell_type": "code",
      "source": [
        "amigos.append('Chicharito')\n",
        "print(amigos)"
      ],
      "metadata": {
        "id": "Gy874d7i3lbC"
      },
      "execution_count": null,
      "outputs": []
    },
    {
      "cell_type": "code",
      "source": [
        "amigos = amigos + ['Chicharito']"
      ],
      "metadata": {
        "id": "_i4so22rvB5R"
      },
      "execution_count": null,
      "outputs": []
    },
    {
      "cell_type": "code",
      "source": [
        "amigos"
      ],
      "metadata": {
        "id": "Vv-rwdPCvOeG"
      },
      "execution_count": null,
      "outputs": []
    },
    {
      "cell_type": "code",
      "source": [
        "x = 10"
      ],
      "metadata": {
        "id": "8xMtY0jQvFrJ"
      },
      "execution_count": null,
      "outputs": []
    },
    {
      "cell_type": "code",
      "source": [
        "x"
      ],
      "metadata": {
        "id": "t7IEZE3BvgBO"
      },
      "execution_count": null,
      "outputs": []
    },
    {
      "cell_type": "code",
      "source": [
        "x = x + 3\n"
      ],
      "metadata": {
        "id": "357tY9jgvc3l"
      },
      "execution_count": null,
      "outputs": []
    },
    {
      "cell_type": "code",
      "source": [
        "\n",
        "x"
      ],
      "metadata": {
        "id": "gyubX7dNvkYH"
      },
      "execution_count": null,
      "outputs": []
    },
    {
      "cell_type": "markdown",
      "source": [
        "Sumamos otra lista:"
      ],
      "metadata": {
        "id": "o1UmG6e_4EU5"
      }
    },
    {
      "cell_type": "code",
      "source": [
        "amigos = amigos + ['Pipi', 'Toto']\n",
        "print(amigos)"
      ],
      "metadata": {
        "id": "tObBsWCr4LCh"
      },
      "execution_count": null,
      "outputs": []
    },
    {
      "cell_type": "markdown",
      "source": [
        "Unir una lista con un separador dado:"
      ],
      "metadata": {
        "id": "mFn23HZN-aVc"
      }
    },
    {
      "cell_type": "code",
      "source": [
        "ejemplo = ['valor1', 'valor2', 'valor3']\n",
        "'#'.join(ejemplo)"
      ],
      "metadata": {
        "id": "ittRiw44-UQI"
      },
      "execution_count": null,
      "outputs": []
    },
    {
      "cell_type": "code",
      "source": [
        "\" \".join([\"hola\", \"qué tal\"])"
      ],
      "metadata": {
        "id": "Fx7UuVx7-lMB"
      },
      "execution_count": null,
      "outputs": []
    },
    {
      "cell_type": "markdown",
      "source": [
        "Borrado por valor:"
      ],
      "metadata": {
        "id": "xQoBVZSD-b9G"
      }
    },
    {
      "cell_type": "code",
      "source": [
        "amigos"
      ],
      "metadata": {
        "id": "SY83NwYtwA9x"
      },
      "execution_count": null,
      "outputs": []
    },
    {
      "cell_type": "code",
      "source": [
        "amigos.remove('Chicharito')\n",
        "print(amigos)"
      ],
      "metadata": {
        "id": "Pli2PACp-chv"
      },
      "execution_count": null,
      "outputs": []
    },
    {
      "cell_type": "markdown",
      "source": [
        "Borrado por índice:"
      ],
      "metadata": {
        "id": "SC_D99cN-vy0"
      }
    },
    {
      "cell_type": "code",
      "source": [
        "del amigos[4]\n",
        "print(amigos)"
      ],
      "metadata": {
        "id": "OVACTNya-u57"
      },
      "execution_count": null,
      "outputs": []
    },
    {
      "cell_type": "code",
      "source": [],
      "metadata": {
        "id": "sw80iN01wTkw"
      },
      "execution_count": null,
      "outputs": []
    },
    {
      "cell_type": "code",
      "source": [
        "edades = [30, 40, 38, 30, 37]"
      ],
      "metadata": {
        "id": "56zb4AuF-9CN"
      },
      "execution_count": null,
      "outputs": []
    },
    {
      "cell_type": "markdown",
      "source": [
        "Devuelve un elemento y lo borra de la lista:"
      ],
      "metadata": {
        "id": "3_aXLKCq-z0R"
      }
    },
    {
      "cell_type": "code",
      "source": [
        "valor = amigos.pop(0)"
      ],
      "metadata": {
        "id": "3XLXdy68-0IT"
      },
      "execution_count": null,
      "outputs": []
    },
    {
      "cell_type": "code",
      "source": [
        "valor"
      ],
      "metadata": {
        "id": "qyYTNz5owqE2"
      },
      "execution_count": null,
      "outputs": []
    },
    {
      "cell_type": "code",
      "source": [
        "amigos"
      ],
      "metadata": {
        "id": "eev8chBWwsa_"
      },
      "execution_count": null,
      "outputs": []
    },
    {
      "cell_type": "markdown",
      "source": [
        "Cantidad de apariciones:"
      ],
      "metadata": {
        "id": "EKSWr9Wr_HOm"
      }
    },
    {
      "cell_type": "code",
      "source": [
        "print(edades.count(30))"
      ],
      "metadata": {
        "id": "zMMa_NSH_GGU"
      },
      "execution_count": null,
      "outputs": []
    },
    {
      "cell_type": "markdown",
      "source": [
        "Largo de la lista:"
      ],
      "metadata": {
        "id": "ilYN-sW2_Lht"
      }
    },
    {
      "cell_type": "code",
      "source": [
        "print(len(edades))"
      ],
      "metadata": {
        "id": "H8yFBP4Y_L71"
      },
      "execution_count": null,
      "outputs": []
    },
    {
      "cell_type": "markdown",
      "source": [
        "Ordenar la lista:"
      ],
      "metadata": {
        "id": "N0xaVuc2_Mbn"
      }
    },
    {
      "cell_type": "code",
      "source": [
        "sorted(edades)"
      ],
      "metadata": {
        "id": "ZNb7zPIV_Mw-"
      },
      "execution_count": null,
      "outputs": []
    },
    {
      "cell_type": "markdown",
      "source": [
        "Sumar el total"
      ],
      "metadata": {
        "id": "KuIu8ZOB_5Bo"
      }
    },
    {
      "cell_type": "code",
      "source": [
        "print(sum(edades))"
      ],
      "metadata": {
        "id": "KcPjFY5b_4H3"
      },
      "execution_count": null,
      "outputs": []
    },
    {
      "cell_type": "markdown",
      "source": [
        "Minimo"
      ],
      "metadata": {
        "id": "TcSwxrVVAA9-"
      }
    },
    {
      "cell_type": "code",
      "source": [
        "print(min(edades))"
      ],
      "metadata": {
        "id": "pB1KLWAM_8eG"
      },
      "execution_count": null,
      "outputs": []
    },
    {
      "cell_type": "markdown",
      "source": [
        "Maximo"
      ],
      "metadata": {
        "id": "9q8-c62oAFgn"
      }
    },
    {
      "cell_type": "code",
      "source": [
        "print(max(edades))"
      ],
      "metadata": {
        "id": "2uqznKJ_ACnv"
      },
      "execution_count": null,
      "outputs": []
    },
    {
      "cell_type": "markdown",
      "source": [
        "## Diccionarios <a name=\"section-8\"></a>\n",
        "\n",
        "Los diccionarios consisten en estructuras que contienen pares de una **llave** y un **valor**. Los elementos NO están ordenados, con lo cual no se puede acceder por posición ni slicing.\n",
        "\n",
        "Veamos un ejemplo"
      ],
      "metadata": {
        "id": "ckIAVbXNAKd-"
      }
    },
    {
      "cell_type": "code",
      "source": [
        "dnis = {'Herrera':32676585, 'Guzmán':9564787,\n",
        "        'Pérez':5676898, 'Hernández':40565999,\n",
        "        'Abraham':28375814,\n",
        "       \"soy_una_llave\":\"soy_un_valor\"}"
      ],
      "metadata": {
        "id": "fBA2dyLgAM9G"
      },
      "execution_count": null,
      "outputs": []
    },
    {
      "cell_type": "code",
      "source": [
        "dnis"
      ],
      "metadata": {
        "id": "691yVzogxPty"
      },
      "execution_count": null,
      "outputs": []
    },
    {
      "cell_type": "markdown",
      "source": [
        "Sin embargo, sí podemos acceder a un elemento por su llave. Accedemos al valor de \"Abraham\""
      ],
      "metadata": {
        "id": "yrygpa2_AWgN"
      }
    },
    {
      "cell_type": "code",
      "source": [
        "dnis['Abraham'] # noten que se usa la misma notación que con las listas"
      ],
      "metadata": {
        "id": "5AvVT0tCAWDu"
      },
      "execution_count": null,
      "outputs": []
    },
    {
      "cell_type": "markdown",
      "source": [
        "¿Qué pasa si tratamos un diccionario como una lista?"
      ],
      "metadata": {
        "id": "hzcsktwRAhr5"
      }
    },
    {
      "cell_type": "code",
      "source": [
        "dnis[0]"
      ],
      "metadata": {
        "id": "crSkFcBNAide"
      },
      "execution_count": null,
      "outputs": []
    },
    {
      "cell_type": "markdown",
      "source": [
        "Tenemos un error, tratemos de interpretarlo: KeyError se refierre a que no existe una llave (Key) a la que se trató de acceder. En este caso la llave que se trató de acceder es 0."
      ],
      "metadata": {
        "id": "Ff-99dmnAqYt"
      }
    },
    {
      "cell_type": "markdown",
      "source": [
        "Podemos ver todas las llaves:"
      ],
      "metadata": {
        "id": "wxB_aed0Axfd"
      }
    },
    {
      "cell_type": "code",
      "source": [
        "dnis.keys()"
      ],
      "metadata": {
        "id": "Lpb4mEq5AuRs"
      },
      "execution_count": null,
      "outputs": []
    },
    {
      "cell_type": "markdown",
      "source": [
        "Traer todos los pares de elementos:"
      ],
      "metadata": {
        "id": "YaansG-sA6Pl"
      }
    },
    {
      "cell_type": "code",
      "source": [
        "dnis.items()"
      ],
      "metadata": {
        "id": "qWgXt2MeA7FM"
      },
      "execution_count": null,
      "outputs": []
    },
    {
      "cell_type": "markdown",
      "source": [
        "Y utilizar los mismos métodos para borrar y extrar como en las listas:"
      ],
      "metadata": {
        "id": "gHqCzMQNBCtv"
      }
    },
    {
      "cell_type": "code",
      "source": [
        "dnis.pop('Herrera')"
      ],
      "metadata": {
        "id": "_T8kpMtBBB-O"
      },
      "execution_count": null,
      "outputs": []
    },
    {
      "cell_type": "markdown",
      "source": [
        "Los diccionarios tienen longitud, de la misma forma que las listas y string"
      ],
      "metadata": {
        "id": "djey8paiBKQ2"
      }
    },
    {
      "cell_type": "code",
      "source": [
        "len(dnis)"
      ],
      "metadata": {
        "id": "WwB78aDLBKx3"
      },
      "execution_count": null,
      "outputs": []
    },
    {
      "cell_type": "markdown",
      "source": [
        "## Condicionales <a name=\"section-9\"></a>\n",
        "\n",
        "El condicional tiene la siguiente sintáxis:\n",
        "\n",
        "    if CONDICIÓN:\n",
        "        código1\n",
        "    elif CONDICIÓN2:\n",
        "        código2\n",
        "    else:\n",
        "        código3\n",
        "        \n",
        "Donde la condición es un operador que devuelve un objeto de tipo booleano. La **indentación** del código define qué parte se incluye como condicional.\n",
        "\n",
        "El término \"elif\" viene de \"else if\". La condición sólo se evaluará si la condición del \"if\" no se cumple."
      ],
      "metadata": {
        "id": "lU46wk8dDbzn"
      }
    },
    {
      "cell_type": "code",
      "source": [
        "numero_secreto = 56 # Cambiamos este valor para jugar\n",
        "\n",
        "numero_usuario = int(input(\"Introduce un número: \"))\n",
        "\n",
        "if numero_usuario == numero_secreto:\n",
        "  print(\"¡Felicidades! Adivinaste el número secreto.\")\n",
        "elif numero_usuario < numero_secreto:\n",
        "  print(\"El número secreto es mayor que tu número.\")\n",
        "else:\n",
        "  print(\"El número secreto es menor que tu número.\")\n",
        "\n",
        "print(\"Intenta adivinar el número secreto de nuevo.\")"
      ],
      "metadata": {
        "id": "X9SAa3XMCGPF"
      },
      "execution_count": null,
      "outputs": []
    },
    {
      "cell_type": "markdown",
      "source": [],
      "metadata": {
        "id": "uQibNG_LFoo8"
      }
    },
    {
      "cell_type": "markdown",
      "metadata": {
        "id": "gB4zZjBn0NfA"
      },
      "source": [
        "## Bucles o Loops\n",
        "\n",
        "Los bucles son un tipo de sentencia donde se realiza el código contenido repetidamente. Existen dos tipos. En el bucle **for**, se **itera** o recorre un conjunto de elementos actuando por cada uno de ellos. En el bucle **while** se itera hasta que se cumple una condiciónn de corte."
      ]
    },
    {
      "cell_type": "markdown",
      "source": [
        "### For loop"
      ],
      "metadata": {
        "id": "ZcTEPmiRCj9K"
      }
    },
    {
      "cell_type": "code",
      "source": [
        "for n in [1,2,'3']:\n",
        "    print(f'EL tipo es {n*2} {type(n*2)}')"
      ],
      "metadata": {
        "id": "ZPKl8SafCmdG"
      },
      "execution_count": null,
      "outputs": []
    },
    {
      "cell_type": "code",
      "source": [
        "lista = [1,2,3,4,5]\n",
        "\n",
        "for numero in lista:\n",
        "    print(numero * 2)"
      ],
      "metadata": {
        "id": "IJ-XwK5aC0we"
      },
      "execution_count": null,
      "outputs": []
    },
    {
      "cell_type": "code",
      "source": [
        "for _ in range(10):\n",
        "    print(_)"
      ],
      "metadata": {
        "id": "rymRyCe7C_uZ"
      },
      "execution_count": null,
      "outputs": []
    },
    {
      "cell_type": "markdown",
      "source": [
        "Si pasamos dos parámetros, estamos pasando el start y el stop, el primer valor es el \"start\" y el segundo el \"stop\"."
      ],
      "metadata": {
        "id": "3kDs9jg0DFUX"
      }
    },
    {
      "cell_type": "code",
      "source": [
        "for n in range(0,5):\n",
        "    print(n)"
      ],
      "metadata": {
        "id": "zwy0WM0xDERn"
      },
      "execution_count": null,
      "outputs": []
    },
    {
      "cell_type": "markdown",
      "source": [
        "Noten que el valor de start se incluye y el de stop no:"
      ],
      "metadata": {
        "id": "8aFdwFouDSLw"
      }
    },
    {
      "cell_type": "code",
      "source": [
        "for n in range(1, 6): # esto nos da el mismo resultado que un par de celdas más arriba\n",
        "    print(n * 2)"
      ],
      "metadata": {
        "id": "DYpZbLw2DVTA"
      },
      "execution_count": null,
      "outputs": []
    },
    {
      "cell_type": "markdown",
      "source": [
        "Por último, el tercer parámetro es el step..."
      ],
      "metadata": {
        "id": "A7truQmpDhCP"
      }
    },
    {
      "cell_type": "code",
      "source": [
        "for n in range(1, 11, 2):  # Incrementando de a 2\n",
        "    print(n)"
      ],
      "metadata": {
        "id": "74mJLVMaEiFF"
      },
      "execution_count": null,
      "outputs": []
    },
    {
      "cell_type": "markdown",
      "source": [
        "### While loop"
      ],
      "metadata": {
        "id": "I34QkR9AEoUB"
      }
    },
    {
      "cell_type": "markdown",
      "source": [
        "Los bucles **while** se definen con una condición, y el código contenido se ejecuta mientras la misma evalue como True. Es importante definir correctamente cuándo la condición pasa de True a False, si no lo hacemos podemos dejar corriendo un programa infinitamente sin que corte. Si eso llega a suceder tienen un botón de stop arriba en la notebook."
      ],
      "metadata": {
        "id": "PmMVUoR_EsX1"
      }
    },
    {
      "cell_type": "code",
      "source": [
        "contador = 0\n",
        "\n",
        "while contador < 20:\n",
        "    contador += 1 # esto equivale a count = count + 1\n",
        "    print(contador)"
      ],
      "metadata": {
        "id": "IXpUBCWwEtW9"
      },
      "execution_count": null,
      "outputs": []
    },
    {
      "cell_type": "markdown",
      "source": [
        "También agreguemos la función **range** a nuestro repertorio. La función range consta de tres parámetros importante: start, stop, step. Si pasamos un sólo parámetro, estamos pasando el \"stop\" y tomamos 0 como valor default de \"start\". Del mismo modo que cuando vimos listas, el stop no está incluído y el step por default es 1.\n",
        "\n",
        "Veamos cómo funciona:"
      ],
      "metadata": {
        "id": "6UXz064MC8Nm"
      }
    },
    {
      "cell_type": "markdown",
      "metadata": {
        "id": "CZqpStBJ5g4i"
      },
      "source": [
        "### Usando un bucle for para imprimir saludos a cada nombre en la lista\n",
        "\n",
        "#### El %s en la cadena es un marcador de posición que se utilizará para insertar el valor de n en el mensaje de saludo. El operador % se usa para formatear la cadena, donde %s se reemplazará por el valor de n en cada iteración."
      ]
    },
    {
      "cell_type": "code",
      "execution_count": null,
      "metadata": {
        "id": "iGxie_f00Smm"
      },
      "outputs": [],
      "source": [
        "nombres = ['Alicia', 'Bob', 'Carol', 'David', 'Juancito']\n",
        "for n in nombres:\n",
        "    print('Hola %s' % n)"
      ]
    },
    {
      "cell_type": "markdown",
      "source": [
        "Una forma más actual y legible de escribir este código es utilizar literales de cadena f-strings (disponibles a partir de Python 3.6). Esto simplifica el formato de cadena y hace que el código sea más claro:"
      ],
      "metadata": {
        "id": "7Tqm4SrPB5FV"
      }
    },
    {
      "cell_type": "code",
      "source": [
        "nombres = ['Alicia', 'Bob', 'Carol', 'David', 'Juancito']\n",
        "for nombre in nombres:\n",
        "    print(f'Hola {n}')"
      ],
      "metadata": {
        "id": "20kio7RfB99c"
      },
      "execution_count": null,
      "outputs": []
    },
    {
      "cell_type": "markdown",
      "source": [
        "***f'Hola {n}*** es una f-string que interpola automáticamente el valor de ***n*** en la cadena. Esto hace que el código sea más conciso y fácil de entender."
      ],
      "metadata": {
        "id": "LpTJRVLuCSsN"
      }
    },
    {
      "cell_type": "markdown",
      "metadata": {
        "id": "bdcq99oG0iM3"
      },
      "source": [
        "## Funciones\n",
        "### Las funciones son bloques de código reutilizables que realizan una tarea específica.\n"
      ]
    },
    {
      "cell_type": "code",
      "source": [
        "print(\"Hola Mundo!\")"
      ],
      "metadata": {
        "id": "A_p3VH3uyPOL"
      },
      "execution_count": null,
      "outputs": []
    },
    {
      "cell_type": "code",
      "execution_count": null,
      "metadata": {
        "id": "vs4CVbTV0hO9"
      },
      "outputs": [],
      "source": [
        "def saludo(nombre):\n",
        "    print('Hola ' + nombre + '!')"
      ]
    },
    {
      "cell_type": "code",
      "execution_count": null,
      "metadata": {
        "id": "MAjlrq3fL7B8"
      },
      "outputs": [],
      "source": [
        "saludo(\"Martin\")\n",
        "saludo(\"Kevin\")"
      ]
    },
    {
      "cell_type": "code",
      "source": [
        "def mi_funcion(miArgumento):\n",
        "    print('Buenas tardes ' + miArgumento.upper() + '!')"
      ],
      "metadata": {
        "id": "C1K_moqik0wm"
      },
      "execution_count": null,
      "outputs": []
    },
    {
      "cell_type": "code",
      "source": [
        "mi_funcion(\"Gustavo\")"
      ],
      "metadata": {
        "id": "JZXUh5GyzCND"
      },
      "execution_count": null,
      "outputs": []
    },
    {
      "cell_type": "code",
      "source": [
        "a = 10\n",
        "b = 20\n",
        "\n",
        "def otraFuncion(argumento):\n",
        "    print(str(a) + ' y ' + str(b) + ' son variables')\n",
        "\n",
        "otraFuncion(\"argumento\")"
      ],
      "metadata": {
        "id": "5EJN8v67BLVM"
      },
      "execution_count": null,
      "outputs": []
    },
    {
      "cell_type": "markdown",
      "source": [
        "#Datos"
      ],
      "metadata": {
        "id": "8yuRsvlrmkWJ"
      }
    },
    {
      "cell_type": "markdown",
      "source": [
        "El tipo de datos que más frecuentemente vamos a utilizar en este curso es el dataframes de Pandas. Un dataframe esencialmente es una tabla con columnas y filas indexadas, de forma tal que podemos acceder fácilmente a filas mediante el índice. También podemos unir, separar o filtrar dataframes trabajando sobre el índice. En general, los dataframes le van a resultar bastante familiares a quienes sepan SQL.\n",
        "\n",
        "Los dataframes pueden tener datos no heterogéneos y además son objetos con métodos útiles para extraer información de forma rápida (por ejemplo, computar histogramas de valores). También es posible convertirlos a arrays de Numpy si así lo necesitamos, aunque no lo vamos a hacer a menos que sea realmente necesario.\n",
        "\n",
        "Una forma de construir dataframes es a partir de diccionarios, de forma tal que asignamos una lista a cada llave, que representa una columna del dataframe:"
      ],
      "metadata": {
        "id": "rx3deLOimoJ4"
      }
    },
    {
      "cell_type": "code",
      "metadata": {
        "id": "UTnOMmL1fwzk"
      },
      "source": [
        "datos = {'alumno': ['Zutano', 'Mengano', 'Pepe' ,'Fulanito, Cosme', 'Maria'], 'primer parcial': [7, 8,7,4, 10], 'segundo parcial': [10,9,4,10,10], 'observaciones':['ninguna','libre','ninguna','libre','oyente'], 'DNI':[23000000, 12389100, 99999, 1001,30406011]}\n",
        "\n",
        "import pandas as pd\n",
        "\n",
        "df = pd.DataFrame(datos)\n",
        "\n",
        "df"
      ],
      "execution_count": null,
      "outputs": []
    },
    {
      "cell_type": "markdown",
      "source": [
        "Vemos que las filas están identificadas con números (0,1,2). Esos números corresponden al índice (index). Podemos obtener las columnas y el índice de un dataframe como listas usando los siguientes métodos:"
      ],
      "metadata": {
        "id": "ZOKjN7B0m2Xu"
      }
    },
    {
      "cell_type": "code",
      "source": [
        "print(list(df.columns))\n",
        "print(list(df.index))"
      ],
      "metadata": {
        "id": "KIsVazJHm3Pf"
      },
      "execution_count": null,
      "outputs": []
    },
    {
      "cell_type": "markdown",
      "source": [
        "Podemos ademas seleccionar una columna del dataframe como si se tratase de un diccionario. El objeto resultante se llama \"series\":"
      ],
      "metadata": {
        "id": "bCuWDSsym9_4"
      }
    },
    {
      "cell_type": "code",
      "source": [
        "print(type(df))\n",
        "print(df['alumno'])\n",
        "print(type(df['alumno']))"
      ],
      "metadata": {
        "id": "-0qSWZaum-wK"
      },
      "execution_count": null,
      "outputs": []
    },
    {
      "cell_type": "markdown",
      "source": [
        "Para obtener files en vez de columnas, podemos usar el método df.loc con una lista de los índices que queremos acceder:"
      ],
      "metadata": {
        "id": "73ltMi4wnQAt"
      }
    },
    {
      "cell_type": "code",
      "source": [
        "df.loc[2]"
      ],
      "metadata": {
        "id": "24a40cYnnO_q"
      },
      "execution_count": null,
      "outputs": []
    },
    {
      "cell_type": "markdown",
      "source": [
        "O bien:"
      ],
      "metadata": {
        "id": "x1TMJu-vnVJL"
      }
    },
    {
      "cell_type": "code",
      "source": [
        "df.loc[2:4]"
      ],
      "metadata": {
        "id": "feB7nMvUnVaS"
      },
      "execution_count": null,
      "outputs": []
    }
  ],
  "metadata": {
    "colab": {
      "provenance": []
    },
    "kernelspec": {
      "display_name": "Python 3",
      "name": "python3"
    },
    "language_info": {
      "name": "python"
    }
  },
  "nbformat": 4,
  "nbformat_minor": 0
}